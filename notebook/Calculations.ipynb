{
 "cells": [
  {
   "cell_type": "markdown",
   "metadata": {},
   "source": [
    "# Voltage Dividers\n",
    "In order to measure the voltages on the powerboard using the Attiny84's ADCs simple voltage dividers are used. The following script calculates the closest resistors values from the E96 (1% tolerance) resistor standard series in a voltage divider network given the input voltage `V_in`, the output voltage `V_out` and the overall current `I`."
   ]
  },
  {
   "cell_type": "code",
   "execution_count": 7,
   "metadata": {
    "collapsed": false
   },
   "outputs": [
    {
     "name": "stdout",
     "output_type": "stream",
     "text": [
      "R1 closest standard value: 13000.0 Ohm\n",
      "R2 closest standard value: 1100.0 Ohm\n",
      "\n",
      "R1 optimal: 12900.0 Ohm\n",
      "R2 optimal: 1100.0 Ohm\n",
      "\n",
      "V_out with standard values at 14.0V: 1.09219858156 V\n",
      "I with standard values at 14.0V: 0.000992907801418 A\n",
      "\n",
      "min. resolution at 16 Bit: 0.0010666001773 V\n"
     ]
    }
   ],
   "source": [
    "# Input voltage\n",
    "V_in = 14.0\n",
    "# Output voltage\n",
    "V_out = 1.1\n",
    "# Desired overall current\n",
    "I = 0.001\n",
    "\n",
    "# Path to CSV file containing resistor values\n",
    "res_value_file = 'E96_resistor_values.csv'\n",
    "\n",
    "# Open file and create a list with standard resistor values\n",
    "f = open(res_value_file, 'r')\n",
    "resistor_values = []\n",
    "for line in f.readlines():\n",
    "    resistor_values += [float(i) for i in line.strip().split(',')]\n",
    "f.close()\n",
    "\n",
    "# Multiply resistor values by powers of 10 to get full list of standard values\n",
    "mult_cnt = 0\n",
    "resistor_values_new = resistor_values\n",
    "while mult_cnt <=4:\n",
    "    resistor_values_new = [i*10 for i in resistor_values_new]\n",
    "    resistor_values += resistor_values_new\n",
    "    mult_cnt +=1\n",
    "\n",
    "# Compute overall resistance\n",
    "R_full = V_in/I\n",
    "\n",
    "# Compute resistance of R1 and R2\n",
    "R2 = R_full / (V_in / V_out)\n",
    "R1 = R_full - R2\n",
    "\n",
    "# Get standard resistance value closest to R2\n",
    "R2_std = min(resistor_values, key=lambda x:abs(x-R2))\n",
    "\n",
    "# Get standard resistance value closest to R1\n",
    "R1_tmp = R_full - R2_std\n",
    "R1_std = min(resistor_values, key=lambda x:abs(x-R1_tmp))\n",
    "\n",
    "# Compute V_out with standard values\n",
    "V_out_std = R2_std / (R1_std + R2_std) * V_in\n",
    "\n",
    "# Compute I with standard values\n",
    "I_std = V_in / (R1_std + R2_std)\n",
    "\n",
    "print 'R1 closest standard value: ' + str(R1_std) + ' Ohm'\n",
    "print 'R2 closest standard value: ' + str(R2_std) + ' Ohm\\n'\n",
    "\n",
    "print 'R1 optimal: ' + str(R1) + ' Ohm'\n",
    "print 'R2 optimal: ' + str(R2) + ' Ohm\\n'\n",
    "\n",
    "print 'V_out with standard values at ' + str(V_in) + 'V: ' + str(V_out_std) + ' V'\n",
    "print 'I with standard values at ' + str(V_in) + 'V: ' + str(I_std) + ' A\\n'\n",
    "\n",
    "print 'min. resolution at 16 Bit: ' + str(V_out_std / 1024.0) + ' V'\n"
   ]
  },
  {
   "cell_type": "code",
   "execution_count": null,
   "metadata": {
    "collapsed": true
   },
   "outputs": [],
   "source": []
  }
 ],
 "metadata": {
  "kernelspec": {
   "display_name": "Python 2",
   "language": "python",
   "name": "python2"
  },
  "language_info": {
   "codemirror_mode": {
    "name": "ipython",
    "version": 2
   },
   "file_extension": ".py",
   "mimetype": "text/x-python",
   "name": "python",
   "nbconvert_exporter": "python",
   "pygments_lexer": "ipython2",
   "version": "2.7.6"
  }
 },
 "nbformat": 4,
 "nbformat_minor": 1
}
