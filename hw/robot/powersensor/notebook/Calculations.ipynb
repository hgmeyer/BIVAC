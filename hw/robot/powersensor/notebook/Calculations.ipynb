{
 "cells": [
  {
   "cell_type": "markdown",
   "metadata": {},
   "source": [
    "# PowerSensor\n",
    "## Voltage Dividers\n",
    "In order to measure the voltages on the powerboard using the Attiny84's ADCs simple voltage dividers are used. The following script calculates the closest resistors values from the E96 (1% tolerance) resistor standard series in a voltage divider network given the input voltage `V_in`, the output voltage `V_out` and the overall current `I`."
   ]
  },
  {
   "cell_type": "code",
   "execution_count": 8,
   "metadata": {
    "collapsed": false
   },
   "outputs": [
    {
     "name": "stdout",
     "output_type": "stream",
     "text": [
      "R1 closest standard value: 4750.0 Ohm\n",
      "R2 closest standard value: 1100.0 Ohm\n",
      "\n",
      "R1 optimal: 4700.0 Ohm\n",
      "R2 optimal: 1100.0 Ohm\n",
      "\n",
      "V_out with standard values at 5.8V: 1.0905982906 V\n",
      "I with standard values at 5.8V: 0.000991452991453 A\n",
      "\n",
      "resolution at 16 Bit: 1.66412092682e-05 V\n"
     ]
    }
   ],
   "source": [
    "# Input voltage\n",
    "V_in = 5.8 # V\n",
    "# Output voltage (corresponding to the Attiny84's internal reference voltage of 1.1V)\n",
    "V_out = 1.1 # V\n",
    "# Desired overall current\n",
    "I = 0.001 # Ohm\n",
    "\n",
    "# Path to CSV file containing resistor values\n",
    "res_value_file = 'E96_resistor_values.csv'\n",
    "\n",
    "# Open file and create a list with standard resistor values\n",
    "f = open(res_value_file, 'r')\n",
    "resistor_values = []\n",
    "for line in f.readlines():\n",
    "    resistor_values += [float(i) for i in line.strip().split(',')]\n",
    "f.close()\n",
    "\n",
    "# Multiply resistor values by powers of 10 to get full list of standard values\n",
    "mult_cnt = 0\n",
    "resistor_values_new = resistor_values\n",
    "while mult_cnt <=4:\n",
    "    resistor_values_new = [i*10 for i in resistor_values_new]\n",
    "    resistor_values += resistor_values_new\n",
    "    mult_cnt +=1\n",
    "\n",
    "# Compute overall resistance\n",
    "R_full = V_in/I\n",
    "\n",
    "# Compute resistance of R1 and R2\n",
    "R2 = R_full / (V_in / V_out)\n",
    "R1 = R_full - R2\n",
    "\n",
    "# Get standard resistance value closest to R2\n",
    "R2_std = min(resistor_values, key=lambda x:abs(x-R2))\n",
    "\n",
    "# Get standard resistance value closest to R1\n",
    "R1_tmp = R_full - R2_std\n",
    "R1_std = min(resistor_values, key=lambda x:abs(x-R1_tmp))\n",
    "\n",
    "# Compute V_out with standard values\n",
    "V_out_std = R2_std / (R1_std + R2_std) * V_in\n",
    "\n",
    "# Compute I with standard values\n",
    "I_std = V_in / (R1_std + R2_std)\n",
    "\n",
    "print 'R1 closest standard value: ' + str(R1_std) + ' Ohm'\n",
    "print 'R2 closest standard value: ' + str(R2_std) + ' Ohm\\n'\n",
    "\n",
    "print 'R1 optimal: ' + str(R1) + ' Ohm'\n",
    "print 'R2 optimal: ' + str(R2) + ' Ohm\\n'\n",
    "\n",
    "print 'V_out with standard values at ' + str(V_in) + 'V: ' + str(V_out_std) + ' V'\n",
    "print 'I with standard values at ' + str(V_in) + 'V: ' + str(I_std) + ' A\\n'\n",
    "\n",
    "print 'resolution at 16 Bit: ' + str(V_out_std / 2**16) + ' V'\n"
   ]
  },
  {
   "cell_type": "markdown",
   "metadata": {},
   "source": [
    "# ADC low pass filtering\n",
    "In order to get rid of high-frequency noise on the board's power lines simple RC low pass filters are implented in the input lines of the Attiny84's ADCs. Voltage measurements on the MCU are supposed to be performed with a maximum temporal resolution of 10Hz per input channel. Hence, according to the Nyquist-Shannon theorem\n",
    "\n",
    "$$ f_{Nyquist} = \\frac{1}{2}f_{sample}$$\n",
    "\n",
    "the sample rate $f_{sample}$ of the ADCs should be set to 20Hz. Consequently, the corner frequency $f_c$ of the low pass filters in the input channels should be set equal to the sample rate. However, as there is no perfect low pass filter in practice, commonly a sample rate of \n",
    "\n",
    "$$ f_{sample} \\approx 2.2f_{Nyquist}$$\n",
    "\n",
    "is used to compensate for the non-perfect damping of the low pass filter; in this case resulting in a sample rate $f_{sample}$ and a corner frequency $f_c$ of 22 Hz.\n",
    "\n",
    "TODO: \n",
    "- write script for computing R and C from standard series resistors and capacitors\n",
    "- measure damping and phase shift \"on-board\""
   ]
  },
  {
   "cell_type": "code",
   "execution_count": null,
   "metadata": {
    "collapsed": true
   },
   "outputs": [],
   "source": []
  }
 ],
 "metadata": {
  "kernelspec": {
   "display_name": "Python 2",
   "language": "python",
   "name": "python2"
  },
  "language_info": {
   "codemirror_mode": {
    "name": "ipython",
    "version": 2
   },
   "file_extension": ".py",
   "mimetype": "text/x-python",
   "name": "python",
   "nbconvert_exporter": "python",
   "pygments_lexer": "ipython2",
   "version": "2.7.12"
  }
 },
 "nbformat": 4,
 "nbformat_minor": 1
}
